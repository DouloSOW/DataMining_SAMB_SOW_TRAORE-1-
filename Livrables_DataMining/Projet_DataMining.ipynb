{
 "cells": [
  {
   "cell_type": "markdown",
   "metadata": {},
   "source": [
    "<div style =\"border: blue solid 5px; font-family: Agency FB;\tbox-shadow: 0px 0px 100px rgba(0, 0, 0, 0.5);\"><center>\n",
    "<a href=\"#\" ><img src=\"img/python.png\" style=\"float:left; max-width: 130px; display: inline\" alt=\"Python\"/></a> \n",
    "    <h1> <font color=\"blue\">PROJET DATAMINIG - MACHINE LEARNING</font> </h1> \n",
    "<a href=\"#\" ><img src=\"img/ensae.jpg\" style=\"float:right; max-width: 190px; display: inline\" alt=\"ENSAE\" /></a>     \n",
    "</center>\n",
    "</div>"
   ]
  },
  {
   "cell_type": "markdown",
   "metadata": {},
   "source": [
    "<div style =\"border: blue solid 5px; font-family: Agency FB;font-size:20px;\tbox-shadow: 0px 0px 10px rgba(0, 0, 0, 0.5);background-color: rgba(10, 10, 100, 0.5);\">\n",
    "<center>\n",
    "<font color=\"white\">------------------------------------------------------------------------------------------------------------------------------------------------------------------------------------------------------------------</font> \n",
    "<font color=\"white\"><br><h6>--------------------------SOUS LA SUPERVISION DE : ----------------------</h6> </font> \n",
    "<ul>\n",
    "<h6>M. Abdou Aziz NDIAYE</h6>\n",
    "</ul>\n",
    "<font color=\"white\"><br><h6>--------------------------REALISE PAR : ----------------------</h6> </font> \n",
    "<ul>\n",
    "<h6>SAMB Coumba</h6>\n",
    "<h6>SOW Doulo</h6>\n",
    "<h6>TRAORE Harouna</h6>\n",
    "</ul>\n",
    "<font color=\"white\">------------------------------------------------------------------------------------------------------------------------------------------------------------------------------------------------------------------</font> \n",
    "</center>\n",
    "    </div>"
   ]
  },
  {
   "cell_type": "markdown",
   "metadata": {},
   "source": [
    "<div style =\"border: blue solid 5px; font-family: Agency FB; \tbox-shadow: 0px 0px 10px rgba(0, 0, 0, 0.5);\tbackground-color: rgba(50, 50, 50, 0.5);\"><font color=\"black\"><center><h1>--1. Chargement des packages essentiels --</h1> </center></font> </div>"
   ]
  },
  {
   "cell_type": "code",
   "execution_count": null,
   "metadata": {},
   "outputs": [],
   "source": [
    "import pandas as pd\n",
    "import numpy as np\n",
    "import os \n",
    "import matplotlib.pyplot as plt\n",
    "#Transformation des variables\n",
    "from sklearn.preprocessing import StandardScaler, PolynomialFeatures\n",
    "#Sélection des variables\n",
    "from sklearn.feature_selection import SelectKBest, f_classif\n",
    "#Paramètre des modèles\n",
    "from sklearn.metrics import recall_score, confusion_matrix, classification_report,roc_auc_score, roc_curve, auc\n",
    "\n",
    "#Sélection de modèle\n",
    "from sklearn.model_selection import train_test_split, learning_curve, GridSearchCV\n",
    ", cross_val_score\n",
    "### Pipeline\n",
    "from sklearn.pipeline import Pipeline\n",
    "##Pour numpy\n",
    "import numpy as np\n",
    "##seaborn\n",
    "import seaborn as sns\n",
    "##DISCRETISATION\n",
    "from sklearn.preprocessing import KBinsDiscretizer\n",
    "##\n",
    "from outliers import smirnov_grubbs as grubbs\n"
   ]
  },
  {
   "cell_type": "markdown",
   "metadata": {},
   "source": [
    "<div style =\"border: blue solid 1px; \tbox-shadow: 0px 0px 10px rgba(0, 0, 0, 0.5);\tbackground-color: rgba(0, 50, 50, 0.5);\"><center><h6>--Préparation de la base --</h6></div>"
   ]
  },
  {
   "cell_type": "code",
   "execution_count": null,
   "metadata": {},
   "outputs": [],
   "source": [
    "#Choix du repertoire de travail \n",
    "repertoire=os.chdir(\"C:/Users/doulo/Cours Python Data  Mining/PROJET\")\n",
    "print(os.getcwd())"
   ]
  },
  {
   "cell_type": "code",
   "execution_count": null,
   "metadata": {},
   "outputs": [],
   "source": [
    "#Chargement de la base \n",
    "base=pd.read_csv('Dataset.csv',sep=';', encoding='utf-8')"
   ]
  },
  {
   "cell_type": "code",
   "execution_count": null,
   "metadata": {},
   "outputs": [],
   "source": [
    "# Copier le data frame (Df) sur un autre objet\n",
    "df=base.copy()"
   ]
  },
  {
   "cell_type": "code",
   "execution_count": null,
   "metadata": {},
   "outputs": [],
   "source": [
    "df.head()"
   ]
  },
  {
   "cell_type": "code",
   "execution_count": null,
   "metadata": {},
   "outputs": [],
   "source": [
    "df.shape"
   ]
  },
  {
   "cell_type": "markdown",
   "metadata": {},
   "source": [
    "<div style =\"border: blue solid 1px; \tbox-shadow: 0px 0px 10px rgba(0, 0, 0, 0.5);\tbackground-color: rgba(0, 50, 50, 0.5);\"><center><h6>--Traitement préliminaire --</h6>"
   ]
  },
  {
   "cell_type": "code",
   "execution_count": null,
   "metadata": {},
   "outputs": [],
   "source": [
    "##Modifier les indexes\n",
    "#Remplacer les indexes par les noms\n",
    "df.set_index('CLIENTNUM',inplace=True)"
   ]
  },
  {
   "cell_type": "code",
   "execution_count": null,
   "metadata": {},
   "outputs": [],
   "source": [
    "#Variables categorielles\n",
    "df_c=df.select_dtypes('object').head()"
   ]
  },
  {
   "cell_type": "code",
   "execution_count": null,
   "metadata": {},
   "outputs": [],
   "source": [
    "#Variables numériques\n",
    "df_n=df.select_dtypes('number').head()"
   ]
  },
  {
   "cell_type": "markdown",
   "metadata": {},
   "source": [
    "<div style =\"border: blue solid 1px; \tbox-shadow: 0px 0px 10px rgba(0, 0, 0, 0.5);\tbackground-color: rgba(0, 50, 50, 0.5);\"><center><h6>--Sortie des statistiques vers Excel_CSV --</h6></center>"
   ]
  },
  {
   "cell_type": "code",
   "execution_count": null,
   "metadata": {},
   "outputs": [],
   "source": [
    "##Statistiques descriptives pour les variables numériques\n",
    "stats=df_n.describe()\n",
    "stats.to_csv('Tableau_statistiques.csv', index= True, mode = 'a')"
   ]
  },
  {
   "cell_type": "markdown",
   "metadata": {},
   "source": [
    "<div style =\"border: blue solid 5px; font-family: Agency FB; \tbox-shadow: 0px 0px 10px rgba(0, 0, 0, 0.5);\tbackground-color: rgba(50, 50, 50, 0.5);\"><center><h1>--TRAITEMENTS DES VARIABLES --</h1></center></div>"
   ]
  },
  {
   "cell_type": "code",
   "execution_count": null,
   "metadata": {},
   "outputs": [],
   "source": [
    "#Valeurs manquantes ?\n",
    "\n",
    "type(df.isna().sum().sort_values(ascending=False))\n",
    "df.isna().sum().sort_values(ascending=False)"
   ]
  },
  {
   "cell_type": "code",
   "execution_count": null,
   "metadata": {},
   "outputs": [],
   "source": [
    "#1. Méthodes graphiques : Box-plot, nuage de points, histogrammes..."
   ]
  },
  {
   "cell_type": "code",
   "execution_count": null,
   "metadata": {},
   "outputs": [],
   "source": [
    "def boxplot(dataframe):\n",
    "    for colonne in dataframe.columns:\n",
    "        plt.boxplot(dataframe[colonne],showmeans=True)\n",
    "        print('***************************************************************************')\n",
    "        print('           :------------','BOXPLOT: ', colonne,'------------:')\n",
    "        print('***************************************************************************')\n",
    "        plt.show()"
   ]
  },
  {
   "cell_type": "code",
   "execution_count": null,
   "metadata": {},
   "outputs": [],
   "source": [
    "boxplot(df_n)"
   ]
  },
  {
   "cell_type": "code",
   "execution_count": null,
   "metadata": {},
   "outputs": [],
   "source": [
    "def bplot_groupby(df_n,df_c,df):\n",
    "    for y in df_n.columns:\n",
    "        for x in df_c.columns:\n",
    "                sns.boxplot(y=y, x=x, \n",
    "                data=df, \n",
    "                palette=\"colorblind\",\n",
    "                hue='Attrition_Flag') \n",
    "                print('***************************************************************************')\n",
    "                print('           :----','BOXPLOT: ', y,'selon', x, '------------:')\n",
    "                print('***************************************************************************')\n",
    "                plt.show()"
   ]
  },
  {
   "cell_type": "code",
   "execution_count": null,
   "metadata": {},
   "outputs": [],
   "source": [
    "bplot_groupby(df_n,df_c,df)"
   ]
  },
  {
   "cell_type": "code",
   "execution_count": null,
   "metadata": {},
   "outputs": [],
   "source": [
    "var_aberr=[\"Months_on_book\", \"Months_Inactive_12_mon\", \n",
    "           \"Total_Revolving_Bal\",\"Total_Trans_Amt\",\n",
    "           \"Total_Ct_Chng_Q4_Q1\",\"Total_Ct_Chng_Q4_Q1\",\n",
    "           \"Avg_Utilization_Ratio\"]"
   ]
  },
  {
   "cell_type": "code",
   "execution_count": null,
   "metadata": {},
   "outputs": [],
   "source": [
    "grouped = df.groupby('Attrition_Flag')"
   ]
  },
  {
   "cell_type": "code",
   "execution_count": null,
   "metadata": {},
   "outputs": [],
   "source": [
    "statBefore = pd.DataFrame({'q1': grouped['Customer_Age'].quantile(.25), \\\n",
    "'median': grouped['Customer_Age'].median(), 'q3' : grouped['Customer_Age'].quantile(.75)})"
   ]
  },
  {
   "cell_type": "code",
   "execution_count": null,
   "metadata": {},
   "outputs": [],
   "source": [
    "def is_outlier(row):\n",
    "       iq_range = statBefore.loc[row.Attrition_Flag]['q3'] - statBefore.loc[row.Attrition_Flag]['q1']\n",
    "       median = statBefore.loc[row.Attrition_Flag]['median']\n",
    "       if row.Customer_Age > (median + (1.5* iq_range)) or row.Customer_Age < (median - (1.5* iq_range)):\n",
    "           return True\n",
    "       else:\n",
    "           return False\n",
    "#apply the function to the original df:\n",
    "df.loc[:, 'outlier'] = df.apply(is_outlier, axis = 1)\n",
    "#filter to only non-outliers:\n",
    "df_no_outliers = df[~(df.outlier)]"
   ]
  },
  {
   "cell_type": "code",
   "execution_count": null,
   "metadata": {},
   "outputs": [],
   "source": [
    "df_no_outliers.shape"
   ]
  },
  {
   "cell_type": "markdown",
   "metadata": {},
   "source": [
    "<div style =\"border: blue solid 1px; \tbox-shadow: 0px 0px 10px rgba(0, 0, 0, 0.5);\tbackground-color: rgba(0, 50, 50, 0.5);\"> <center><h6>VALEURS ABERRANTES</h6></center>"
   ]
  },
  {
   "cell_type": "code",
   "execution_count": null,
   "metadata": {},
   "outputs": [],
   "source": [
    "grubbs.max_test_outliers(np.array(df[\"Total_Ct_Chng_Q4_Q1\"]), alpha=.05)"
   ]
  },
  {
   "cell_type": "code",
   "execution_count": null,
   "metadata": {},
   "outputs": [],
   "source": [
    "index_out =grubbs.max_test_indices(np.array(df[\"Total_Ct_Chng_Q4_Q1\"]), alpha=.05)\n",
    "len(index_out)\n"
   ]
  },
  {
   "cell_type": "code",
   "execution_count": null,
   "metadata": {},
   "outputs": [],
   "source": [
    "index_out"
   ]
  },
  {
   "cell_type": "markdown",
   "metadata": {},
   "source": [
    "<div style =\"border: blue solid 1px; \tbox-shadow: 0px 0px 10px rgba(0, 0, 0, 0.5);\tbackground-color: rgba(0, 50, 50, 0.5);\"> <center><h6>FONCTIONS DE SUPPRESSION DES OUTLIERS"
   ]
  },
  {
   "cell_type": "code",
   "execution_count": null,
   "metadata": {},
   "outputs": [],
   "source": [
    "df=base.copy()"
   ]
  },
  {
   "cell_type": "code",
   "execution_count": null,
   "metadata": {},
   "outputs": [],
   "source": [
    "## Drop outliers à gauche\n",
    "def drop_outlier_right(variable):\n",
    "    index_out =grubbs.max_test_indices(np.array(df[variable]), alpha=.05)\n",
    "    print('****************************', variable ,'******************************************')\n",
    "    print('Nombre de valeurs aberrantes à droite  : ', len(index_out),'-------------:')\n",
    "    print('***************************************************************************')\n",
    "    accord=int(input(\"Tapez 1 pour confirmer la suppression\"))\n",
    "    if (accord==1):\n",
    "        df.drop(list(index_out),0, inplace=True)\n",
    "        print('Valeurs supprimées')\n",
    "    else : \n",
    "        print('Annuler') "
   ]
  },
  {
   "cell_type": "code",
   "execution_count": null,
   "metadata": {
    "scrolled": true
   },
   "outputs": [],
   "source": [
    "for var in var_aberr:\n",
    "    drop_outlier_right(var)"
   ]
  },
  {
   "cell_type": "code",
   "execution_count": null,
   "metadata": {},
   "outputs": [],
   "source": [
    "## Drop outliers à droite\n",
    "def drop_outlier_left(variable):\n",
    "    index_out =grubbs.min_test_indices(np.array(df[variable]), alpha=.05)\n",
    "    print('****************************', variable ,'******************************************')\n",
    "    print('Nombre de valeurs aberrantes à droite  : ', len(index_out),'-------------:')\n",
    "    print('***************************************************************************')\n",
    "    accord=int(input(\"Tapez 1 pour confirmer la suppression\"))\n",
    "    if (accord==1):\n",
    "        df.drop(index_out,0, inplace=True)\n",
    "        print('Valeurs supprimées')\n",
    "    else : \n",
    "        print('Annuler') "
   ]
  },
  {
   "cell_type": "code",
   "execution_count": null,
   "metadata": {},
   "outputs": [],
   "source": [
    "for var in var_aberr:\n",
    "    drop_outlier_left(var)"
   ]
  },
  {
   "cell_type": "code",
   "execution_count": null,
   "metadata": {},
   "outputs": [],
   "source": [
    "df.shape"
   ]
  },
  {
   "cell_type": "code",
   "execution_count": null,
   "metadata": {},
   "outputs": [],
   "source": [
    "def tab(col):\n",
    "    for colonne in df.select_dtypes('object').columns:\n",
    "        print('***************************************************************************')\n",
    "        print('           :------------','Attrition selon : ', colonne,'------------:')\n",
    "        print('***************************************************************************')\n",
    "        tab_croise=pd.crosstab(df[\"Attrition_Flag\"],df[colonne])\n",
    "        tab_croise.to_csv('Tableau_croisees.csv', index= True, mode = 'a')\n",
    "        print(pd.crosstab(df[\"Attrition_Flag\"],df[colonne]))"
   ]
  },
  {
   "cell_type": "code",
   "execution_count": null,
   "metadata": {},
   "outputs": [],
   "source": [
    "tab(df)"
   ]
  },
  {
   "cell_type": "code",
   "execution_count": null,
   "metadata": {},
   "outputs": [],
   "source": [
    "#Afficher une liste \n",
    "print(df.duplicated()) "
   ]
  },
  {
   "cell_type": "markdown",
   "metadata": {},
   "source": [
    "<div style =\"border: blue solid 5px; \tbox-shadow: 0px 0px 10px rgba(0, 0, 0, 0.5);\tbackground-color: rgba(50, 50, 50, 0.5);\"><font color=\"black\"><center><h1>ANALYSE DESCRIPTIVE</h1></center></font></div>"
   ]
  },
  {
   "cell_type": "code",
   "execution_count": null,
   "metadata": {},
   "outputs": [],
   "source": [
    "#Catégorisation\n",
    "for colonne in df.select_dtypes(['object',\"category\"]).columns:\n",
    "    df[colonne]=df[colonne].astype('category').cat.codes"
   ]
  },
  {
   "cell_type": "code",
   "execution_count": null,
   "metadata": {},
   "outputs": [],
   "source": [
    "#############DISCRETISATION (Pour regression logistique)\n",
    "df.loc[:, 'AGE']=pd.cut(df[\"Customer_Age\"],3,labels=[\"Jeune\", \"Adulte\",\"Vieux\"])"
   ]
  },
  {
   "cell_type": "code",
   "execution_count": null,
   "metadata": {},
   "outputs": [],
   "source": [
    "#histogramme\n",
    "def graph(data):\n",
    "    for colonne in data.columns:\n",
    "        print('***************************************************************************')\n",
    "        print('             :------------',colonne,'------------:')\n",
    "        print('***************************************************************************')\n",
    "        df[colonne].hist()\n",
    "        plt.show()"
   ]
  },
  {
   "cell_type": "code",
   "execution_count": null,
   "metadata": {},
   "outputs": [],
   "source": [
    "graph(df_n)"
   ]
  },
  {
   "cell_type": "code",
   "execution_count": null,
   "metadata": {},
   "outputs": [],
   "source": [
    "###Corrélation_Matrice\n",
    "corrMatrix = df_n.corr()\n",
    "sns.heatmap(corrMatrix, annot=True)\n",
    "fig = plt.gcf()\n",
    "fig.set_size_inches(10, 6)\n",
    "plt.savefig('Matrice_Correlation.png')"
   ]
  },
  {
   "cell_type": "markdown",
   "metadata": {},
   "source": [
    "<div style =\"border: blue solid 5px; font-family: Agency FB; box-shadow: 0px 0px 10px rgba(0, 0, 0, 0.5);\tbackground-color: rgba(50, 50, 50, 0.5);\"><center><h1>ANALYSE DESCRIPTIVE avec Pandas_Profiling</h1></center></div>\n"
   ]
  },
  {
   "cell_type": "code",
   "execution_count": null,
   "metadata": {},
   "outputs": [],
   "source": [
    "!pip install pandas_profiling\n"
   ]
  },
  {
   "cell_type": "code",
   "execution_count": null,
   "metadata": {},
   "outputs": [],
   "source": [
    "## Statistiques descriptives\n",
    "from pandas_profiling import ProfileReport\n",
    "rapport=ProfileReport(base, title='Statistiques descriptives', explorative=True)\n",
    "rapport.to_widgets()\n",
    "rapport.to_notebook_iframe()\n",
    "rapport.to_file(\"StatistiquesDescriptives_Op2.html\")"
   ]
  },
  {
   "cell_type": "markdown",
   "metadata": {},
   "source": [
    "<div style =\"border: blue solid 5px; font-family: Agency FB; box-shadow: 0px 0px 10px rgba(0, 0, 0, 0.5);\tbackground-color: rgba(50, 50, 50, 0.5);\"><center><h1>MODELISATION</h1></center></div>\n"
   ]
  },
  {
   "cell_type": "markdown",
   "metadata": {},
   "source": [
    "<div style =\"border: blue solid 3px; font-family: Agency FB; \tbox-shadow: 0px 0px 10px rgba(0, 0, 0, 0.5);\tbackground-color: rgba(0, 50, 50, 0.5);\"> <center><h6><center>\n",
    "<h1>Importations des modèles</h1>    \n",
    "</center>"
   ]
  },
  {
   "cell_type": "markdown",
   "metadata": {},
   "source": [
    "<div style =\"border: blue solid 1px; \tbox-shadow: 0px 0px 10px rgba(0, 0, 0, 0.5);\tbackground-color: rgba(0, 50, 50, 0.5);\"> <center><h6><center>\n",
    "<h3>1. Modèles standards</h3>    \n",
    "</center>"
   ]
  },
  {
   "cell_type": "code",
   "execution_count": null,
   "metadata": {},
   "outputs": [],
   "source": [
    "#Logistique\n",
    "from sklearn.linear_model import LogisticRegression\n",
    "#Arbre de decision\n",
    "from sklearn.tree import DecisionTreeClassifier\n",
    "#KNN\n",
    "from sklearn.neighbors import KNeighborsClassifier\n",
    "#SVM\n",
    "from sklearn.svm import SVC\n",
    "\n"
   ]
  },
  {
   "cell_type": "markdown",
   "metadata": {},
   "source": [
    "<div style =\"border: blue solid 1px; \tbox-shadow: 0px 0px 10px rgba(0, 0, 0, 0.5);\tbackground-color: rgba(0, 50, 50, 0.5);\"> <center><h6><center>\n",
    "<h3>2. Methodes ensemblistes</h3>    \n",
    "</center>"
   ]
  },
  {
   "cell_type": "code",
   "execution_count": null,
   "metadata": {},
   "outputs": [],
   "source": [
    "!pip install xgboost"
   ]
  },
  {
   "cell_type": "code",
   "execution_count": null,
   "metadata": {},
   "outputs": [],
   "source": [
    "##########################Méthode ensembliste######################################################\n",
    "#Bagging\n",
    "from sklearn.ensemble import BaggingClassifier\n",
    "#randomized decision trees\n",
    "from sklearn.ensemble import RandomForestClassifier\n",
    "#Boosting\n",
    "#Adaboost\n",
    "from sklearn.ensemble import AdaBoostClassifier\n",
    "#Gradient Boosting Classifier\n",
    "from sklearn.ensemble import GradientBoostingClassifier\n",
    "#XGBoost\n",
    "from xgboost import XGBClassifier"
   ]
  },
  {
   "cell_type": "markdown",
   "metadata": {},
   "source": [
    "<div style =\"border: blue solid 1px; \tbox-shadow: 0px 0px 10px rgba(0, 0, 0, 0.5);\tbackground-color: rgba(0, 50, 50, 0.5);\"> <center><h6><center>\n",
    "<h3>3. Reseau de neurones</h3>    \n",
    "</center>"
   ]
  },
  {
   "cell_type": "code",
   "execution_count": null,
   "metadata": {},
   "outputs": [],
   "source": [
    "##############################  Reseau de neurones     ##############################################\n",
    "#MultiLayerPerceptron\n",
    "from sklearn.neural_network import MLPClassifier"
   ]
  },
  {
   "cell_type": "markdown",
   "metadata": {},
   "source": [
    "<div style =\"border: blue solid 3px; \tbox-shadow: 0px 0px 10px rgba(0, 0, 0, 0.5);\tbackground-color: rgba(0, 50, 50, 0.5);\"> <center><h6><center>\n",
    "<h3>Préparation</h3>    \n",
    "</center>"
   ]
  },
  {
   "cell_type": "code",
   "execution_count": null,
   "metadata": {},
   "outputs": [],
   "source": [
    "#Choix de la variables à expliquer\n",
    "y = df['Attrition_Flag']\n",
    "x = df.drop(['Attrition_Flag','AGE'], axis = 1)\n"
   ]
  },
  {
   "cell_type": "code",
   "execution_count": null,
   "metadata": {},
   "outputs": [],
   "source": [
    "#Division de la base en test \n",
    "x_train, x_test, y_train, y_test = train_test_split(x, y, test_size = 0.1, random_state = 0)\n",
    "print(x_train.shape, x_test.shape, y_train.shape, y_test.shape)"
   ]
  },
  {
   "cell_type": "markdown",
   "metadata": {},
   "source": [
    "<div style =\"border: blue solid 3px; font-family: Agency FB; \tbox-shadow: 0px 0px 10px rgba(0, 0, 0, 0.5);\tbackground-color: rgba(0, 50, 50, 0.5);\"> <center><h6><center>\n",
    "<h1>Fonction d'évaluation des modèles</h1>    \n",
    "</center>"
   ]
  },
  {
   "cell_type": "code",
   "execution_count": null,
   "metadata": {},
   "outputs": [],
   "source": [
    "#Fonction d'évaluation des modèles\n",
    "def evaluation_modele(modele):\n",
    "    #Modèle et paramètre\n",
    "    modele.fit(x_train, y_train)\n",
    "    y_pred = modele.predict(x_test)\n",
    "    print(\"**********************************\")\n",
    "    print(\"-----------------------------------\")\n",
    "    print(\"Matrice de confusion:\")\n",
    "    print(\"-----------------------------------\")\n",
    "    print(confusion_matrix(y_test, y_pred))\n",
    "    print(\"**********************************\")\n",
    "    print(\"-----------------------------------\")\n",
    "    print(\"Classification report: \")\n",
    "    print(\"-----------------------------------\")\n",
    "    # Exporter les sorties vers un fichier CSV\n",
    "    report=classification_report(y_test, y_pred,output_dict=True)\n",
    "    report=pd.DataFrame(report).transpose()\n",
    "    report.to_csv('Sorties_Modeles.csv', index= True, mode = 'a')\n",
    "    print(classification_report(y_test, y_pred))\n",
    "    ##Courbe d'apprentissage\n",
    "    print(\"**********************************\")\n",
    "    print(\"-----------------------------------\")\n",
    "    print(\"Courbe d'apprentissage \")\n",
    "    print(\"-----------------------------------\")\n",
    "    N, train_score, val_score = learning_curve(modele, x_train, y_train, cv=4, \n",
    "    scoring='accuracy', train_sizes=np.linspace(0.1,1,5))\n",
    "    plt.figure()\n",
    "    plt.plot(N, train_score.mean(axis =1), label = 'train')\n",
    "    plt.plot(N, val_score.mean(axis =1), label = 'validation')\n",
    "    plt.legend()\n",
    "    plt.show()\n",
    "    print(\"**********************************\")\n",
    "    print(\"-----------------------------------\")\n",
    "    print(\"Courbe de ROC \")\n",
    "    print(\"-----------------------------------\")\n",
    "    ##Courbe de ROC\n",
    "    fpr,tpr,_=roc_curve(y_test,y_pred,pos_label=1)\n",
    "    aire=auc(fpr,tpr)\n",
    "    plt.figure()\n",
    "    plt.plot([0, 1], [0, 1], 'k--')\n",
    "    plt.plot(fpr,tpr)\n",
    "    plt.xlabel('Taux de Faux positif')\n",
    "    plt.ylabel('Taux de vrai positif')\n",
    "    plt.title('Courbe de ROC')\n",
    "    plt.show()\n",
    "    ## Affichage de la valeur de l'aire de la courbe ROC\n",
    "    print(\"-----------------------------------\")\n",
    "    print(\"Aire en dessous de la courbe:%0.3f\" %aire)\n",
    "    print(\"-----------------------------------\")\n",
    "    print(\"**********************************\")\n"
   ]
  },
  {
   "cell_type": "markdown",
   "metadata": {},
   "source": [
    "<div style =\"border: blue solid 3px; font-family: Agency FB; \tbox-shadow: 0px 0px 10px rgba(0, 0, 0, 0.5);\tbackground-color: rgba(0, 50, 50, 0.5);\"> <center><h6><center>\n",
    "<h1>Instanciation des modèles</h1>    \n",
    "</center>"
   ]
  },
  {
   "cell_type": "code",
   "execution_count": null,
   "metadata": {},
   "outputs": [],
   "source": [
    "#Instanciation des modèles sans transformation \n",
    "#Regression logistique\n",
    "lr  = LogisticRegression(solver='liblinear',random_state=0,penalty='l2')\n",
    "#Arbre de decision\n",
    "dtc = DecisionTreeClassifier(random_state=0)\n",
    "#K plus proche voisin\n",
    "knn = KNeighborsClassifier()\n",
    "#SVM à noyau linéaire\n",
    "clf = SVC() \n"
   ]
  },
  {
   "cell_type": "code",
   "execution_count": null,
   "metadata": {},
   "outputs": [],
   "source": [
    "#Reseau de neurones \n",
    "neural= MLPClassifier(hidden_layer_sizes=(150,100,50),\n",
    "                          max_iter=300,activation = 'relu',solver='adam',\n",
    "                      random_state=1)"
   ]
  },
  {
   "cell_type": "code",
   "execution_count": null,
   "metadata": {},
   "outputs": [],
   "source": [
    "#Bagging\n",
    "bc = BaggingClassifier(dtc, 10, random_state=0)\n",
    "#Randomized decision tree\n",
    "rfc= RandomForestClassifier(max_depth=2, random_state=0)\n",
    "#Adaboost\n",
    "abc = AdaBoostClassifier(dtc,n_estimators=50,learning_rate=1)\n",
    "#XGBClassifier\n",
    "xgb=XGBClassifier(base_score= 0.5, booster='gbtree', colsample_bylevel= 1,\n",
    "                  colsample_bytree=1, gamma= 0, learning_rate= 0.1, max_delta_step= 0, \n",
    "                  max_depth= 3, min_child_weight= 1, missing= None, n_estimators= 100,\n",
    "                  objective='binary:logistic', reg_alpha= 0, reg_lambda=1,\n",
    "                  scale_pos_weight= 1, seed= 0, silent=True, subsample=1, verbosity=0,use_label_encoder=False)\n"
   ]
  },
  {
   "cell_type": "markdown",
   "metadata": {},
   "source": [
    "<div style =\"border: blue solid 3px; font-family: Agency FB; \tbox-shadow: 0px 0px 10px rgba(0, 0, 0, 0.5);\tbackground-color: rgba(0, 50, 50, 0.5);\"> <center><h6><center>\n",
    "<h1>Regroupement des modèles</h1>    \n",
    "</center>"
   ]
  },
  {
   "cell_type": "code",
   "execution_count": null,
   "metadata": {},
   "outputs": [],
   "source": [
    "#Dictionnaire des modèles\n",
    "dico_modeles = {'Régresssion logistique': lr,\n",
    "                'Arbre de décision': dtc}"
   ]
  },
  {
   "cell_type": "code",
   "execution_count": null,
   "metadata": {},
   "outputs": [],
   "source": [
    "dico1={'K plus proches voisins': knn,\n",
    "                'Support Vecteur Machine':clf\n",
    "               }"
   ]
  },
  {
   "cell_type": "code",
   "execution_count": null,
   "metadata": {},
   "outputs": [],
   "source": [
    "dico_ens={'Randomized decision tree':rfc,'Adaboost':abc}"
   ]
  },
  {
   "cell_type": "code",
   "execution_count": null,
   "metadata": {},
   "outputs": [],
   "source": [
    "dico2={'Bagging':bc,'XGBClassifier':xgb}"
   ]
  },
  {
   "cell_type": "code",
   "execution_count": null,
   "metadata": {},
   "outputs": [],
   "source": [
    "dico_reseau={'Reseau de neurone':neural}"
   ]
  },
  {
   "cell_type": "markdown",
   "metadata": {},
   "source": [
    "<div style =\"border: blue solid 3px; font-family: Agency FB; \tbox-shadow: 0px 0px 10px rgba(0, 0, 0, 0.5);\tbackground-color: rgba(0, 50, 50, 0.5);\"> <center><h6><center>\n",
    "<h1>Evaluation des modèles</h1>    \n",
    "</center>"
   ]
  },
  {
   "cell_type": "code",
   "execution_count": null,
   "metadata": {},
   "outputs": [],
   "source": [
    "#Evaluation de la regression logistique et des arbres de décisions\n",
    "for key, value in dico_modeles.items():\n",
    "    print(\"-----------------\",key,\"-----------------\")\n",
    "    evaluation_modele(value)"
   ]
  },
  {
   "cell_type": "code",
   "execution_count": null,
   "metadata": {},
   "outputs": [],
   "source": [
    "#Evaluation du KNN et du SVM\n",
    "for key, value in dico1.items():\n",
    "    print(\"-----------------\",key,\"-----------------\")\n",
    "    evaluation_modele(value)"
   ]
  },
  {
   "cell_type": "code",
   "execution_count": null,
   "metadata": {},
   "outputs": [],
   "source": [
    "#Evaluation du bagging et de XGboost  \n",
    "for key, value in dico2.items():\n",
    "    print(\"-----------------\",key,\"-----------------\")\n",
    "    evaluation_modele(value)"
   ]
  },
  {
   "cell_type": "code",
   "execution_count": null,
   "metadata": {},
   "outputs": [],
   "source": [
    "#Evaluation du reseau de neurone \n",
    "for key, value in dico_reseau.items():\n",
    "    print(\"-----------------\",key,\"-----------------\")\n",
    "    evaluation_modele(value)"
   ]
  },
  {
   "cell_type": "code",
   "execution_count": null,
   "metadata": {},
   "outputs": [],
   "source": [
    "#Evaluation du Randomized decision tree et de Adaaboost\n",
    "for key, value in dico_ens.items():\n",
    "    print(\"-----------------\",key,\"-----------------\")\n",
    "    evaluation_modele(value)"
   ]
  },
  {
   "cell_type": "markdown",
   "metadata": {},
   "source": [
    "<div style =\"border: blue solid 3px; font-family: Agency FB; \tbox-shadow: 0px 0px 10px rgba(0, 0, 0, 0.5);\tbackground-color: rgba(0, 50, 50, 0.5);\"> <center><h6><center>\n",
    "<h1>Optimisation:Selection  et transformation des variables</h1>    \n",
    "</center>"
   ]
  },
  {
   "cell_type": "markdown",
   "metadata": {},
   "source": [
    "<div style =\"border: blue solid 1px; \tbox-shadow: 0px 0px 10px rgba(0, 0, 0, 0.5);\tbackground-color: rgba(0, 50, 50, 0.5);\"> <center><h6><center>\n",
    "<h3>CrossValidation et Grid search.</h3>    \n",
    "</center>"
   ]
  },
  {
   "cell_type": "code",
   "execution_count": null,
   "metadata": {},
   "outputs": [],
   "source": [
    "##Theorie sur les modèles "
   ]
  },
  {
   "cell_type": "code",
   "execution_count": null,
   "metadata": {},
   "outputs": [],
   "source": [
    "## Normalisation des données \n",
    "sc = StandardScaler()\n",
    "x_train = sc.fit_transform(x_train)\n",
    "x_test = sc.transform(x_test)"
   ]
  },
  {
   "cell_type": "code",
   "execution_count": null,
   "metadata": {},
   "outputs": [],
   "source": [
    "#Selection des variables les plus pertinentes pour expliquer l'attrition\n",
    "skb = SelectKBest(f_classif, k=5)\n",
    "x_train = skb.fit_transform(x_train, y_train)\n",
    "print(\"----------------- Les Variables retenues sont:------------------\")\n",
    "#text format\n",
    "df.columns[skb.get_support(indices=True)]\n",
    "#vector format\n",
    "variable_retenues= list(df.columns[skb.get_support(indices=True)])\n",
    "print(variable_retenues)\n",
    "x_test = skb.transform(x_test)"
   ]
  },
  {
   "cell_type": "markdown",
   "metadata": {},
   "source": [
    "<div style =\"border: blue solid 3px; font-family: Agency FB; \tbox-shadow: 0px 0px 10px rgba(0, 0, 0, 0.5);\tbackground-color: rgba(0, 50, 50, 0.5);\"> <center><h6><center>\n",
    "<h1>Reévalution des modèles avec moins de variables et données normalisées</h1>    \n",
    "</center>"
   ]
  },
  {
   "cell_type": "code",
   "execution_count": null,
   "metadata": {},
   "outputs": [],
   "source": [
    "#Evaluation de la regression logistique et des arbres de décisions\n",
    "for key, value in dico_modeles.items():\n",
    "    print(\"-----------------\",key,\"-----------------\")\n",
    "    evaluation_modele(value)"
   ]
  },
  {
   "cell_type": "code",
   "execution_count": null,
   "metadata": {},
   "outputs": [],
   "source": [
    "#Evaluation du KNN et du SVM\n",
    "for key, value in dico1.items():\n",
    "    print(\"-----------------\",key,\"-----------------\")\n",
    "    evaluation_modele(value)"
   ]
  },
  {
   "cell_type": "code",
   "execution_count": null,
   "metadata": {},
   "outputs": [],
   "source": [
    "#Evaluation du bagging et de XGboost \n",
    "for key, value in dico2.items():\n",
    "    print(\"-----------------\",key,\"-----------------\")\n",
    "    evaluation_modele(value)"
   ]
  },
  {
   "cell_type": "code",
   "execution_count": null,
   "metadata": {},
   "outputs": [],
   "source": [
    "#Evaluation du Randomized decision tree et de Adaaboost\n",
    "for key, value in dico_ens.items():\n",
    "    print(\"-----------------\",key,\"-----------------\")\n",
    "    evaluation_modele(value)"
   ]
  },
  {
   "cell_type": "code",
   "execution_count": null,
   "metadata": {},
   "outputs": [],
   "source": [
    "#Evaluation du reseau de neurone \n",
    "for key, value in dico_reseau.items():\n",
    "    print(\"-----------------\",key,\"-----------------\")\n",
    "    evaluation_modele(value)"
   ]
  },
  {
   "cell_type": "markdown",
   "metadata": {},
   "source": [
    "<center><div style =\"border: blue solid 5px; box-shadow: 0px 0px 10px rgba(0, 0, 0, 0.5);\tbackground-color: rgba(50, 50, 50, 0.5);\"> <h3>Arbre pour le modèle XGBosst</h3></div></center>"
   ]
  },
  {
   "cell_type": "code",
   "execution_count": null,
   "metadata": {},
   "outputs": [],
   "source": [
    "## Installer le package graphviz\n",
    "!pip install graphviz\n",
    "## telecharger et Installer l'excutable de graphiz sur l'ordinateur\n",
    "## Ajouter du chemin de graphique à la variable d'environnement\n",
    "os.environ[\"PATH\"] += os.pathsep + 'C:/Program Files/Graphviz/bin'\n",
    "\n"
   ]
  },
  {
   "cell_type": "code",
   "execution_count": null,
   "metadata": {},
   "outputs": [],
   "source": [
    "#XGBClassifier\n",
    "xgb=XGBClassifier(base_score= 0.5, booster='gbtree', colsample_bylevel= 1,\n",
    "                  colsample_bytree=1, gamma= 0, learning_rate= 0.1, max_delta_step= 0, \n",
    "                  max_depth= 3, min_child_weight= 1, missing= None, n_estimators= 100,\n",
    "                  objective='binary:logistic', reg_alpha= 0, reg_lambda=1,\n",
    "                  scale_pos_weight= 1, seed= 0, silent=True, subsample=1, verbosity=0,use_label_encoder=False)\n",
    "\n",
    "xgb.fit(x_train, y_train)\n",
    "from xgboost import plot_tree\n",
    "plt.figure()\n",
    "plot_tree(xgb,num_trees=5)\n",
    "fig = plt.gcf()\n",
    "fig.set_size_inches(15, 35)\n",
    "plt.savefig('arbre.png')\n",
    "plt.show()"
   ]
  },
  {
   "cell_type": "code",
   "execution_count": null,
   "metadata": {},
   "outputs": [],
   "source": [
    "# feature importance\n",
    "from xgboost import plot_importance\n",
    "print(xgb.feature_importances_)\n",
    "# plot\n",
    "#plt.figure()\n",
    "#plt.bar(range(len(xgb.feature_importances_)), xgb.feature_importances_)\n",
    "plot_importance(xgb)\n",
    "plt.savefig('importance_variables.png')\n",
    "plt.show()"
   ]
  },
  {
   "cell_type": "code",
   "execution_count": null,
   "metadata": {},
   "outputs": [],
   "source": []
  },
  {
   "cell_type": "markdown",
   "metadata": {},
   "source": [
    "<center><div style =\"border: blue solid 5px; font-family: Agency FB; box-shadow: 0px 0px 10px rgba(0, 0, 0, 0.5);\tbackground-color: rgba(0, 50, 250, 0.5);\"><center>\n",
    "<h1>Optimisation du modèle retenu</h1>    \n",
    "</center></div>"
   ]
  },
  {
   "cell_type": "code",
   "execution_count": null,
   "metadata": {},
   "outputs": [],
   "source": [
    "# Grille de paramètres à optimiser\n",
    "parametres = {\n",
    "        'num_boost_round': [100, 250, 500],\n",
    "        'eta': [0.05, 0.1, 0.3],\n",
    "        'max_depth': [6, 9, 12],\n",
    "        'subsample': [0.9, 1.0],\n",
    "        'colsample_bytree': [0.9, 1.0],\n",
    "        'max_depth': [3, 4, 5],\n",
    "        'learning_rate':[0.02,0.1],\n",
    "        'n_estimators':[100,200,300],\n",
    "         'min_child_weight': [1, 5, 10],\n",
    "        'gamma': [0.5, 1, 1.5, 2, 5]\n",
    "        \n",
    "    }\n",
    "  \n",
    "\n",
    "\n"
   ]
  },
  {
   "cell_type": "code",
   "execution_count": null,
   "metadata": {},
   "outputs": [],
   "source": [
    "xgb = XGBClassifier(objective='binary:logistic',silent=True,missing= None,reg_alpha= 0, reg_lambda=1,\n",
    "                    verbosity=0,use_label_encoder=False,seed= 0)"
   ]
  },
  {
   "cell_type": "code",
   "execution_count": null,
   "metadata": {},
   "outputs": [],
   "source": [
    " xgb=GridSearchCV(xgb, parametres, n_jobs=1, cv=3)"
   ]
  },
  {
   "cell_type": "code",
   "execution_count": null,
   "metadata": {},
   "outputs": [],
   "source": [
    "evaluation_modele(xgb)"
   ]
  },
  {
   "cell_type": "code",
   "execution_count": null,
   "metadata": {},
   "outputs": [],
   "source": [
    "#Afficher l'arbre de décision\n",
    "#tree.plot_tree(clf) "
   ]
  },
  {
   "cell_type": "markdown",
   "metadata": {},
   "source": [
    "<center><div style =\"border: red solid 2px; font-family: Agency FB; box-shadow: 0px 0px 10px rgba(0, 0, 0, 0.5);\tbackground-color: rgba(50, 0, 0, 0.5);\"><center>\n",
    "<h1>FIN</h1>    \n",
    "</center></div>"
   ]
  }
 ],
 "metadata": {
  "kernelspec": {
   "display_name": "Python 3",
   "language": "python",
   "name": "python3"
  },
  "language_info": {
   "codemirror_mode": {
    "name": "ipython",
    "version": 3
   },
   "file_extension": ".py",
   "mimetype": "text/x-python",
   "name": "python",
   "nbconvert_exporter": "python",
   "pygments_lexer": "ipython3",
   "version": "3.8.3"
  }
 },
 "nbformat": 4,
 "nbformat_minor": 5
}
